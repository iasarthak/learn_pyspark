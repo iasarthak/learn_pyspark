{
 "cells": [
  {
   "cell_type": "code",
   "id": "initial_id",
   "metadata": {
    "collapsed": true,
    "ExecuteTime": {
     "end_time": "2024-07-10T14:00:35.087644Z",
     "start_time": "2024-07-10T14:00:35.085243Z"
    }
   },
   "source": [
    "## Add Pyspark to your environment\n",
    "# !pip install pyspark"
   ],
   "outputs": [],
   "execution_count": 1
  },
  {
   "metadata": {
    "ExecuteTime": {
     "end_time": "2024-07-10T14:03:27.354194Z",
     "start_time": "2024-07-10T14:03:27.349532Z"
    }
   },
   "cell_type": "code",
   "source": [
    "## Start a spark session\n",
    "from pyspark.sql import SparkSession"
   ],
   "id": "ad917738f5c5d672",
   "outputs": [],
   "execution_count": 3
  },
  {
   "metadata": {
    "ExecuteTime": {
     "end_time": "2024-07-10T14:03:52.187221Z",
     "start_time": "2024-07-10T14:03:48.467812Z"
    }
   },
   "cell_type": "code",
   "source": "spark=SparkSession.builder.appName('Practice').getOrCreate()",
   "id": "c3a356060e99584a",
   "outputs": [
    {
     "name": "stderr",
     "output_type": "stream",
     "text": [
      "24/07/10 19:33:50 WARN Utils: Your hostname, Sarthaks-MacBook-Pro.local resolves to a loopback address: 127.0.0.1; using 192.168.29.106 instead (on interface en0)\n",
      "24/07/10 19:33:50 WARN Utils: Set SPARK_LOCAL_IP if you need to bind to another address\n",
      "Setting default log level to \"WARN\".\n",
      "To adjust logging level use sc.setLogLevel(newLevel). For SparkR, use setLogLevel(newLevel).\n",
      "24/07/10 19:33:51 WARN NativeCodeLoader: Unable to load native-hadoop library for your platform... using builtin-java classes where applicable\n"
     ]
    }
   ],
   "execution_count": 4
  },
  {
   "metadata": {
    "ExecuteTime": {
     "end_time": "2024-07-10T14:05:51.057482Z",
     "start_time": "2024-07-10T14:05:47.869997Z"
    }
   },
   "cell_type": "code",
   "source": "df_pyspark = spark.read.csv('plant_growth_data.csv')",
   "id": "dd2de521c7683704",
   "outputs": [],
   "execution_count": 5
  },
  {
   "metadata": {
    "ExecuteTime": {
     "end_time": "2024-07-10T14:05:54.395833Z",
     "start_time": "2024-07-10T14:05:54.389022Z"
    }
   },
   "cell_type": "code",
   "source": "df_pyspark",
   "id": "43675cf010456747",
   "outputs": [
    {
     "data": {
      "text/plain": [
       "DataFrame[_c0: string, _c1: string, _c2: string, _c3: string, _c4: string, _c5: string, _c6: string]"
      ]
     },
     "execution_count": 6,
     "metadata": {},
     "output_type": "execute_result"
    }
   ],
   "execution_count": 6
  },
  {
   "metadata": {
    "ExecuteTime": {
     "end_time": "2024-07-10T14:07:08.378660Z",
     "start_time": "2024-07-10T14:07:08.289393Z"
    }
   },
   "cell_type": "code",
   "source": "df_pyspark_new = spark.read.option('header', 'true').csv('plant_growth_data.csv')",
   "id": "8a6a2becd1e668f9",
   "outputs": [],
   "execution_count": 11
  },
  {
   "metadata": {
    "ExecuteTime": {
     "end_time": "2024-07-10T14:07:20.108158Z",
     "start_time": "2024-07-10T14:07:20.041627Z"
    }
   },
   "cell_type": "code",
   "source": [
    "# To see the whole dataset\n",
    "df_pyspark.show()"
   ],
   "id": "3f28659c9dc59168",
   "outputs": [
    {
     "name": "stdout",
     "output_type": "stream",
     "text": [
      "+---------+------------------+---------------+---------------+------------------+------------------+----------------+\n",
      "|      _c0|               _c1|            _c2|            _c3|               _c4|               _c5|             _c6|\n",
      "+---------+------------------+---------------+---------------+------------------+------------------+----------------+\n",
      "|Soil_Type|    Sunlight_Hours|Water_Frequency|Fertilizer_Type|       Temperature|          Humidity|Growth_Milestone|\n",
      "|     loam| 5.192294089205035|      bi-weekly|       chemical|31.719602410244118| 61.59186060848997|               0|\n",
      "|    sandy| 4.033132702741614|         weekly|        organic| 28.91948412187396| 52.42227609891599|               1|\n",
      "|     loam| 8.892768570729004|      bi-weekly|           none|23.179058888285397| 44.66053858490323|               0|\n",
      "|     loam| 8.241144063085702|      bi-weekly|           none|18.465886401416917|  46.4332272684958|               0|\n",
      "|    sandy| 8.374043008245923|      bi-weekly|        organic| 18.12874085342172| 63.62592280385192|               0|\n",
      "|    sandy| 8.627622080115675|      bi-weekly|           none|20.004857963291904|   67.618726471884|               0|\n",
      "|     loam| 4.444267910404542|          daily|        organic|25.984533294122407| 69.57895218629243|               1|\n",
      "|     clay| 6.150794371265635|          daily|        organic|29.291918454001248| 69.48090713972769|               0|\n",
      "|     loam| 4.695214357150778|      bi-weekly|           none|28.203947534354626|34.560305152434516|               1|\n",
      "|     loam| 9.178620555253561|         weekly|        organic|20.598677938918858| 54.72101523512907|               1|\n",
      "|     loam|7.7397887609653475|          daily|           none|34.097305613263885|32.877938000832216|               0|\n",
      "|     loam| 5.985388149115895|      bi-weekly|       chemical| 29.75793833391537| 57.47644411618678|               0|\n",
      "|    sandy| 4.381350101716142|          daily|        organic|26.087081050228015| 52.07652506866885|               1|\n",
      "|     loam| 5.865893930293973|          daily|       chemical|27.234414924687044| 74.38520913791498|               1|\n",
      "|     clay| 5.951099932160482|         weekly|           none|  23.3920012485558| 47.54575062760394|               1|\n",
      "|    sandy| 8.377637070028385|      bi-weekly|       chemical| 19.95461979002315|35.853350821380296|               1|\n",
      "|     clay|7.8253448281312785|      bi-weekly|       chemical|22.119453573025233|37.149584102641796|               0|\n",
      "|     clay|  9.32327645545796|         weekly|           none| 30.15692220928738| 68.07553158587362|               0|\n",
      "|     clay|6.8332895509716955|         weekly|       chemical|15.287869772595117| 60.91090316581305|               1|\n",
      "+---------+------------------+---------------+---------------+------------------+------------------+----------------+\n",
      "only showing top 20 rows\n",
      "\n"
     ]
    }
   ],
   "execution_count": 14
  },
  {
   "metadata": {
    "ExecuteTime": {
     "end_time": "2024-07-10T14:07:20.615759Z",
     "start_time": "2024-07-10T14:07:20.611331Z"
    }
   },
   "cell_type": "code",
   "source": "type(df_pyspark_new)",
   "id": "bcb8e8b3fabc459e",
   "outputs": [
    {
     "data": {
      "text/plain": [
       "pyspark.sql.dataframe.DataFrame"
      ]
     },
     "execution_count": 15,
     "metadata": {},
     "output_type": "execute_result"
    }
   ],
   "execution_count": 15
  },
  {
   "metadata": {
    "ExecuteTime": {
     "end_time": "2024-07-10T14:08:37.603735Z",
     "start_time": "2024-07-10T14:08:37.529932Z"
    }
   },
   "cell_type": "code",
   "source": "df_pyspark_new.head(3)",
   "id": "be519b166f358f21",
   "outputs": [
    {
     "data": {
      "text/plain": [
       "[Row(Soil_Type='loam', Sunlight_Hours='5.192294089205035', Water_Frequency='bi-weekly', Fertilizer_Type='chemical', Temperature='31.719602410244118', Humidity='61.59186060848997', Growth_Milestone='0'),\n",
       " Row(Soil_Type='sandy', Sunlight_Hours='4.033132702741614', Water_Frequency='weekly', Fertilizer_Type='organic', Temperature='28.91948412187396', Humidity='52.42227609891599', Growth_Milestone='1'),\n",
       " Row(Soil_Type='loam', Sunlight_Hours='8.892768570729004', Water_Frequency='bi-weekly', Fertilizer_Type='none', Temperature='23.179058888285397', Humidity='44.66053858490323', Growth_Milestone='0')]"
      ]
     },
     "execution_count": 18,
     "metadata": {},
     "output_type": "execute_result"
    }
   ],
   "execution_count": 18
  },
  {
   "metadata": {
    "ExecuteTime": {
     "end_time": "2024-07-10T14:09:15.993124Z",
     "start_time": "2024-07-10T14:09:15.983077Z"
    }
   },
   "cell_type": "code",
   "source": "df_pyspark_new.printSchema()",
   "id": "73c886810c965347",
   "outputs": [
    {
     "name": "stdout",
     "output_type": "stream",
     "text": [
      "root\n",
      " |-- Soil_Type: string (nullable = true)\n",
      " |-- Sunlight_Hours: string (nullable = true)\n",
      " |-- Water_Frequency: string (nullable = true)\n",
      " |-- Fertilizer_Type: string (nullable = true)\n",
      " |-- Temperature: string (nullable = true)\n",
      " |-- Humidity: string (nullable = true)\n",
      " |-- Growth_Milestone: string (nullable = true)\n",
      "\n"
     ]
    }
   ],
   "execution_count": 19
  },
  {
   "metadata": {},
   "cell_type": "code",
   "outputs": [],
   "execution_count": null,
   "source": "",
   "id": "adbae1e8d3ee5033"
  },
  {
   "metadata": {},
   "cell_type": "code",
   "outputs": [],
   "execution_count": null,
   "source": "",
   "id": "bdedfdc62ac57552"
  },
  {
   "metadata": {},
   "cell_type": "markdown",
   "source": [
    "# Points getting covered - \n",
    "1. Pyspark DataFrame\n",
    "2. Reading Dataset\n",
    "3. Checking datatypes (schema)\n",
    "4. Selecting columns and indexing\n",
    "5. 'Describe' option similar to Pandas\n",
    "6. Adding Columns\n",
    "7. Dropping columns "
   ],
   "id": "b07e75f09e4f7baa"
  },
  {
   "metadata": {
    "ExecuteTime": {
     "end_time": "2024-07-10T14:12:16.208564Z",
     "start_time": "2024-07-10T14:12:16.192609Z"
    }
   },
   "cell_type": "code",
   "source": [
    "from pyspark.sql import SparkSession\n",
    "\n",
    "spark = SparkSession.builder.appName('Practice_DataFrame').getOrCreate()"
   ],
   "id": "671fd15a2e15f39d",
   "outputs": [
    {
     "name": "stderr",
     "output_type": "stream",
     "text": [
      "24/07/10 19:42:16 WARN SparkSession: Using an existing Spark session; only runtime SQL configurations will take effect.\n"
     ]
    }
   ],
   "execution_count": 20
  },
  {
   "metadata": {
    "ExecuteTime": {
     "end_time": "2024-07-10T14:14:02.645876Z",
     "start_time": "2024-07-10T14:14:02.475193Z"
    }
   },
   "cell_type": "code",
   "source": [
    "# Reading the dataset\n",
    "\n",
    "df_pyspark = spark.read.option('header','true').csv('plant_growth_data.csv', inferSchema=True)"
   ],
   "id": "5acd372d3d98ac09",
   "outputs": [],
   "execution_count": 26
  },
  {
   "metadata": {
    "ExecuteTime": {
     "end_time": "2024-07-10T14:14:03.339036Z",
     "start_time": "2024-07-10T14:14:03.336300Z"
    }
   },
   "cell_type": "code",
   "source": [
    "## Check the schema\n",
    "\n",
    "df_pyspark.printSchema()"
   ],
   "id": "e1208cb6c10a0f6f",
   "outputs": [
    {
     "name": "stdout",
     "output_type": "stream",
     "text": [
      "root\n",
      " |-- Soil_Type: string (nullable = true)\n",
      " |-- Sunlight_Hours: double (nullable = true)\n",
      " |-- Water_Frequency: string (nullable = true)\n",
      " |-- Fertilizer_Type: string (nullable = true)\n",
      " |-- Temperature: double (nullable = true)\n",
      " |-- Humidity: double (nullable = true)\n",
      " |-- Growth_Milestone: integer (nullable = true)\n",
      "\n"
     ]
    }
   ],
   "execution_count": 27
  },
  {
   "metadata": {
    "ExecuteTime": {
     "end_time": "2024-07-10T14:16:47.253762Z",
     "start_time": "2024-07-10T14:16:46.980367Z"
    }
   },
   "cell_type": "code",
   "source": [
    "df_pyspark=spark.read.csv('plant_growth_data.csv', header=True, inferSchema=True)\n",
    "\n",
    "df_pyspark.show()"
   ],
   "id": "a67a32ad69af22b4",
   "outputs": [
    {
     "name": "stdout",
     "output_type": "stream",
     "text": [
      "+---------+------------------+---------------+---------------+------------------+------------------+----------------+\n",
      "|Soil_Type|    Sunlight_Hours|Water_Frequency|Fertilizer_Type|       Temperature|          Humidity|Growth_Milestone|\n",
      "+---------+------------------+---------------+---------------+------------------+------------------+----------------+\n",
      "|     loam| 5.192294089205035|      bi-weekly|       chemical|31.719602410244118| 61.59186060848997|               0|\n",
      "|    sandy| 4.033132702741614|         weekly|        organic| 28.91948412187396| 52.42227609891599|               1|\n",
      "|     loam| 8.892768570729004|      bi-weekly|           none|23.179058888285397| 44.66053858490323|               0|\n",
      "|     loam| 8.241144063085702|      bi-weekly|           none|18.465886401416917|  46.4332272684958|               0|\n",
      "|    sandy| 8.374043008245923|      bi-weekly|        organic| 18.12874085342172| 63.62592280385192|               0|\n",
      "|    sandy| 8.627622080115675|      bi-weekly|           none|20.004857963291904|   67.618726471884|               0|\n",
      "|     loam| 4.444267910404542|          daily|        organic|25.984533294122407| 69.57895218629243|               1|\n",
      "|     clay| 6.150794371265635|          daily|        organic|29.291918454001248| 69.48090713972769|               0|\n",
      "|     loam| 4.695214357150778|      bi-weekly|           none|28.203947534354626|34.560305152434516|               1|\n",
      "|     loam| 9.178620555253561|         weekly|        organic|20.598677938918858| 54.72101523512907|               1|\n",
      "|     loam|7.7397887609653475|          daily|           none|34.097305613263885|32.877938000832216|               0|\n",
      "|     loam| 5.985388149115895|      bi-weekly|       chemical| 29.75793833391537| 57.47644411618678|               0|\n",
      "|    sandy| 4.381350101716142|          daily|        organic|26.087081050228015| 52.07652506866885|               1|\n",
      "|     loam| 5.865893930293973|          daily|       chemical|27.234414924687044| 74.38520913791498|               1|\n",
      "|     clay| 5.951099932160482|         weekly|           none|  23.3920012485558| 47.54575062760394|               1|\n",
      "|    sandy| 8.377637070028385|      bi-weekly|       chemical| 19.95461979002315|35.853350821380296|               1|\n",
      "|     clay|7.8253448281312785|      bi-weekly|       chemical|22.119453573025233|37.149584102641796|               0|\n",
      "|     clay|  9.32327645545796|         weekly|           none| 30.15692220928738| 68.07553158587362|               0|\n",
      "|     clay|6.8332895509716955|         weekly|       chemical|15.287869772595117| 60.91090316581305|               1|\n",
      "|     clay|  4.71756547562981|      bi-weekly|       chemical|17.321452810138325| 35.05613380613951|               1|\n",
      "+---------+------------------+---------------+---------------+------------------+------------------+----------------+\n",
      "only showing top 20 rows\n",
      "\n"
     ]
    }
   ],
   "execution_count": 28
  },
  {
   "metadata": {
    "ExecuteTime": {
     "end_time": "2024-07-10T14:16:54.346337Z",
     "start_time": "2024-07-10T14:16:54.339937Z"
    }
   },
   "cell_type": "code",
   "source": "df_pyspark.printSchema()",
   "id": "1b1e6cdd5cfda083",
   "outputs": [
    {
     "name": "stdout",
     "output_type": "stream",
     "text": [
      "root\n",
      " |-- Soil_Type: string (nullable = true)\n",
      " |-- Sunlight_Hours: double (nullable = true)\n",
      " |-- Water_Frequency: string (nullable = true)\n",
      " |-- Fertilizer_Type: string (nullable = true)\n",
      " |-- Temperature: double (nullable = true)\n",
      " |-- Humidity: double (nullable = true)\n",
      " |-- Growth_Milestone: integer (nullable = true)\n",
      "\n"
     ]
    }
   ],
   "execution_count": 29
  },
  {
   "metadata": {
    "ExecuteTime": {
     "end_time": "2024-07-10T14:17:07.486584Z",
     "start_time": "2024-07-10T14:17:07.476407Z"
    }
   },
   "cell_type": "code",
   "source": "type(df_pyspark)",
   "id": "7f6e3400fbe85645",
   "outputs": [
    {
     "data": {
      "text/plain": [
       "pyspark.sql.dataframe.DataFrame"
      ]
     },
     "execution_count": 30,
     "metadata": {},
     "output_type": "execute_result"
    }
   ],
   "execution_count": 30
  },
  {
   "metadata": {
    "ExecuteTime": {
     "end_time": "2024-07-10T14:17:43.126335Z",
     "start_time": "2024-07-10T14:17:43.079863Z"
    }
   },
   "cell_type": "code",
   "source": "df_pyspark.head(3)",
   "id": "2d4288f477e1dddd",
   "outputs": [
    {
     "data": {
      "text/plain": [
       "[Row(Soil_Type='loam', Sunlight_Hours=5.192294089205035, Water_Frequency='bi-weekly', Fertilizer_Type='chemical', Temperature=31.719602410244118, Humidity=61.59186060848997, Growth_Milestone=0),\n",
       " Row(Soil_Type='sandy', Sunlight_Hours=4.033132702741614, Water_Frequency='weekly', Fertilizer_Type='organic', Temperature=28.91948412187396, Humidity=52.42227609891599, Growth_Milestone=1),\n",
       " Row(Soil_Type='loam', Sunlight_Hours=8.892768570729004, Water_Frequency='bi-weekly', Fertilizer_Type='none', Temperature=23.179058888285397, Humidity=44.66053858490323, Growth_Milestone=0)]"
      ]
     },
     "execution_count": 32,
     "metadata": {},
     "output_type": "execute_result"
    }
   ],
   "execution_count": 32
  },
  {
   "metadata": {
    "ExecuteTime": {
     "end_time": "2024-07-10T14:21:07.457599Z",
     "start_time": "2024-07-10T14:21:07.403274Z"
    }
   },
   "cell_type": "code",
   "source": "df_pyspark.show(5)",
   "id": "c09adea250e9ae7e",
   "outputs": [
    {
     "name": "stdout",
     "output_type": "stream",
     "text": [
      "+---------+-----------------+---------------+---------------+------------------+-----------------+----------------+\n",
      "|Soil_Type|   Sunlight_Hours|Water_Frequency|Fertilizer_Type|       Temperature|         Humidity|Growth_Milestone|\n",
      "+---------+-----------------+---------------+---------------+------------------+-----------------+----------------+\n",
      "|     loam|5.192294089205035|      bi-weekly|       chemical|31.719602410244118|61.59186060848997|               0|\n",
      "|    sandy|4.033132702741614|         weekly|        organic| 28.91948412187396|52.42227609891599|               1|\n",
      "|     loam|8.892768570729004|      bi-weekly|           none|23.179058888285397|44.66053858490323|               0|\n",
      "|     loam|8.241144063085702|      bi-weekly|           none|18.465886401416917| 46.4332272684958|               0|\n",
      "|    sandy|8.374043008245923|      bi-weekly|        organic| 18.12874085342172|63.62592280385192|               0|\n",
      "+---------+-----------------+---------------+---------------+------------------+-----------------+----------------+\n",
      "only showing top 5 rows\n",
      "\n"
     ]
    }
   ],
   "execution_count": 37
  },
  {
   "metadata": {
    "ExecuteTime": {
     "end_time": "2024-07-10T14:21:37.525413Z",
     "start_time": "2024-07-10T14:21:37.469726Z"
    }
   },
   "cell_type": "code",
   "source": [
    "# Selecting one column\n",
    "df_pyspark.select('Soil_Type').show(2)"
   ],
   "id": "2652675779dbd215",
   "outputs": [
    {
     "name": "stdout",
     "output_type": "stream",
     "text": [
      "+---------+\n",
      "|Soil_Type|\n",
      "+---------+\n",
      "|     loam|\n",
      "|    sandy|\n",
      "+---------+\n",
      "only showing top 2 rows\n",
      "\n"
     ]
    }
   ],
   "execution_count": 40
  },
  {
   "metadata": {
    "ExecuteTime": {
     "end_time": "2024-07-10T14:22:11.795914Z",
     "start_time": "2024-07-10T14:22:11.699364Z"
    }
   },
   "cell_type": "code",
   "source": [
    "# Selecting two columns\n",
    "df_pyspark.select(['Soil_Type', 'Sunlight_Hours']).show(2)"
   ],
   "id": "bc344012de972193",
   "outputs": [
    {
     "name": "stdout",
     "output_type": "stream",
     "text": [
      "+---------+-----------------+\n",
      "|Soil_Type|   Sunlight_Hours|\n",
      "+---------+-----------------+\n",
      "|     loam|5.192294089205035|\n",
      "|    sandy|4.033132702741614|\n",
      "+---------+-----------------+\n",
      "only showing top 2 rows\n",
      "\n"
     ]
    }
   ],
   "execution_count": 41
  },
  {
   "metadata": {
    "ExecuteTime": {
     "end_time": "2024-07-10T14:22:37.449511Z",
     "start_time": "2024-07-10T14:22:37.440952Z"
    }
   },
   "cell_type": "code",
   "source": [
    "# This won't work\n",
    "df_pyspark['Soil_Type']"
   ],
   "id": "fa0b21a5330acfee",
   "outputs": [
    {
     "data": {
      "text/plain": [
       "Column<'Soil_Type'>"
      ]
     },
     "execution_count": 43,
     "metadata": {},
     "output_type": "execute_result"
    }
   ],
   "execution_count": 43
  },
  {
   "metadata": {
    "ExecuteTime": {
     "end_time": "2024-07-10T14:23:01.856420Z",
     "start_time": "2024-07-10T14:23:01.852219Z"
    }
   },
   "cell_type": "code",
   "source": "df_pyspark.dtypes",
   "id": "2675bd446cdc19a9",
   "outputs": [
    {
     "data": {
      "text/plain": [
       "[('Soil_Type', 'string'),\n",
       " ('Sunlight_Hours', 'double'),\n",
       " ('Water_Frequency', 'string'),\n",
       " ('Fertilizer_Type', 'string'),\n",
       " ('Temperature', 'double'),\n",
       " ('Humidity', 'double'),\n",
       " ('Growth_Milestone', 'int')]"
      ]
     },
     "execution_count": 44,
     "metadata": {},
     "output_type": "execute_result"
    }
   ],
   "execution_count": 44
  },
  {
   "metadata": {
    "ExecuteTime": {
     "end_time": "2024-07-10T14:23:26.200588Z",
     "start_time": "2024-07-10T14:23:25.527332Z"
    }
   },
   "cell_type": "code",
   "source": "df_pyspark.describe().show()",
   "id": "f7b122a0d07aa15b",
   "outputs": [
    {
     "name": "stderr",
     "output_type": "stream",
     "text": [
      "24/07/10 19:53:25 WARN SparkStringUtils: Truncated the string representation of a plan since it was too large. This behavior can be adjusted by setting 'spark.sql.debug.maxToStringFields'.\n"
     ]
    },
    {
     "name": "stdout",
     "output_type": "stream",
     "text": [
      "+-------+---------+------------------+---------------+---------------+------------------+------------------+-------------------+\n",
      "|summary|Soil_Type|    Sunlight_Hours|Water_Frequency|Fertilizer_Type|       Temperature|          Humidity|   Growth_Milestone|\n",
      "+-------+---------+------------------+---------------+---------------+------------------+------------------+-------------------+\n",
      "|  count|      193|               193|            193|            193|               193|               193|                193|\n",
      "|   mean|     NULL|6.8264843391026435|           NULL|           NULL| 25.07608654204958| 58.09892681973317|0.49740932642487046|\n",
      "| stddev|     NULL|1.5995085200445005|           NULL|           NULL|5.3541699082740335| 12.63179883787259| 0.5012936632230302|\n",
      "|    min|     clay| 4.033132702741614|      bi-weekly|       chemical|              15.2|30.567682238370953|                  0|\n",
      "|    max|    sandy| 9.913902724663604|         weekly|        organic| 34.81010284001347| 79.64823980596502|                  1|\n",
      "+-------+---------+------------------+---------------+---------------+------------------+------------------+-------------------+\n",
      "\n"
     ]
    }
   ],
   "execution_count": 46
  },
  {
   "metadata": {
    "ExecuteTime": {
     "end_time": "2024-07-10T14:28:55.481059Z",
     "start_time": "2024-07-10T14:28:55.424827Z"
    }
   },
   "cell_type": "code",
   "source": [
    "## Adding a new column to the dataframe\n",
    "df_pyspark = df_pyspark.withColumn('Sunlight_Minutes', df_pyspark['Sunlight_Hours'] * 60)"
   ],
   "id": "9ac6abaa79484346",
   "outputs": [],
   "execution_count": 47
  },
  {
   "metadata": {
    "ExecuteTime": {
     "end_time": "2024-07-10T14:29:00.374438Z",
     "start_time": "2024-07-10T14:29:00.304437Z"
    }
   },
   "cell_type": "code",
   "source": "df_pyspark.show()",
   "id": "9540ca66f4eacdbe",
   "outputs": [
    {
     "name": "stdout",
     "output_type": "stream",
     "text": [
      "+---------+------------------+---------------+---------------+------------------+------------------+----------------+------------------+\n",
      "|Soil_Type|    Sunlight_Hours|Water_Frequency|Fertilizer_Type|       Temperature|          Humidity|Growth_Milestone|  Sunlight_Minutes|\n",
      "+---------+------------------+---------------+---------------+------------------+------------------+----------------+------------------+\n",
      "|     loam| 5.192294089205035|      bi-weekly|       chemical|31.719602410244118| 61.59186060848997|               0| 311.5376453523021|\n",
      "|    sandy| 4.033132702741614|         weekly|        organic| 28.91948412187396| 52.42227609891599|               1|241.98796216449688|\n",
      "|     loam| 8.892768570729004|      bi-weekly|           none|23.179058888285397| 44.66053858490323|               0| 533.5661142437402|\n",
      "|     loam| 8.241144063085702|      bi-weekly|           none|18.465886401416917|  46.4332272684958|               0|494.46864378514215|\n",
      "|    sandy| 8.374043008245923|      bi-weekly|        organic| 18.12874085342172| 63.62592280385192|               0| 502.4425804947554|\n",
      "|    sandy| 8.627622080115675|      bi-weekly|           none|20.004857963291904|   67.618726471884|               0| 517.6573248069404|\n",
      "|     loam| 4.444267910404542|          daily|        organic|25.984533294122407| 69.57895218629243|               1| 266.6560746242725|\n",
      "|     clay| 6.150794371265635|          daily|        organic|29.291918454001248| 69.48090713972769|               0|369.04766227593814|\n",
      "|     loam| 4.695214357150778|      bi-weekly|           none|28.203947534354626|34.560305152434516|               1| 281.7128614290467|\n",
      "|     loam| 9.178620555253561|         weekly|        organic|20.598677938918858| 54.72101523512907|               1| 550.7172333152137|\n",
      "|     loam|7.7397887609653475|          daily|           none|34.097305613263885|32.877938000832216|               0| 464.3873256579208|\n",
      "|     loam| 5.985388149115895|      bi-weekly|       chemical| 29.75793833391537| 57.47644411618678|               0| 359.1232889469537|\n",
      "|    sandy| 4.381350101716142|          daily|        organic|26.087081050228015| 52.07652506866885|               1| 262.8810061029685|\n",
      "|     loam| 5.865893930293973|          daily|       chemical|27.234414924687044| 74.38520913791498|               1|351.95363581763837|\n",
      "|     clay| 5.951099932160482|         weekly|           none|  23.3920012485558| 47.54575062760394|               1| 357.0659959296289|\n",
      "|    sandy| 8.377637070028385|      bi-weekly|       chemical| 19.95461979002315|35.853350821380296|               1| 502.6582242017031|\n",
      "|     clay|7.8253448281312785|      bi-weekly|       chemical|22.119453573025233|37.149584102641796|               0| 469.5206896878767|\n",
      "|     clay|  9.32327645545796|         weekly|           none| 30.15692220928738| 68.07553158587362|               0| 559.3965873274775|\n",
      "|     clay|6.8332895509716955|         weekly|       chemical|15.287869772595117| 60.91090316581305|               1| 409.9973730583017|\n",
      "|     clay|  4.71756547562981|      bi-weekly|       chemical|17.321452810138325| 35.05613380613951|               1| 283.0539285377886|\n",
      "+---------+------------------+---------------+---------------+------------------+------------------+----------------+------------------+\n",
      "only showing top 20 rows\n",
      "\n"
     ]
    }
   ],
   "execution_count": 48
  },
  {
   "metadata": {
    "ExecuteTime": {
     "end_time": "2024-07-10T14:29:46.961093Z",
     "start_time": "2024-07-10T14:29:46.939437Z"
    }
   },
   "cell_type": "code",
   "source": [
    "## Drop the columns\n",
    "df_pyspark = df_pyspark.drop('Sunlight_Minutes')"
   ],
   "id": "3a540578c0e609f1",
   "outputs": [],
   "execution_count": 49
  },
  {
   "metadata": {
    "ExecuteTime": {
     "end_time": "2024-07-10T14:29:52.677500Z",
     "start_time": "2024-07-10T14:29:52.592703Z"
    }
   },
   "cell_type": "code",
   "source": "df_pyspark.show(5)",
   "id": "e2b7d6ea2b2b93df",
   "outputs": [
    {
     "name": "stdout",
     "output_type": "stream",
     "text": [
      "+---------+-----------------+---------------+---------------+------------------+-----------------+----------------+\n",
      "|Soil_Type|   Sunlight_Hours|Water_Frequency|Fertilizer_Type|       Temperature|         Humidity|Growth_Milestone|\n",
      "+---------+-----------------+---------------+---------------+------------------+-----------------+----------------+\n",
      "|     loam|5.192294089205035|      bi-weekly|       chemical|31.719602410244118|61.59186060848997|               0|\n",
      "|    sandy|4.033132702741614|         weekly|        organic| 28.91948412187396|52.42227609891599|               1|\n",
      "|     loam|8.892768570729004|      bi-weekly|           none|23.179058888285397|44.66053858490323|               0|\n",
      "|     loam|8.241144063085702|      bi-weekly|           none|18.465886401416917| 46.4332272684958|               0|\n",
      "|    sandy|8.374043008245923|      bi-weekly|        organic| 18.12874085342172|63.62592280385192|               0|\n",
      "+---------+-----------------+---------------+---------------+------------------+-----------------+----------------+\n",
      "only showing top 5 rows\n",
      "\n"
     ]
    }
   ],
   "execution_count": 50
  },
  {
   "metadata": {
    "ExecuteTime": {
     "end_time": "2024-07-10T14:30:29.775424Z",
     "start_time": "2024-07-10T14:30:29.768840Z"
    }
   },
   "cell_type": "code",
   "source": [
    "## Rename the column\n",
    "df_pyspark = df_pyspark.withColumnRenamed('Growth_Milestone', 'Growth_milestone')"
   ],
   "id": "1c13f6a9c25f63af",
   "outputs": [],
   "execution_count": 52
  },
  {
   "metadata": {
    "ExecuteTime": {
     "end_time": "2024-07-10T14:30:30.958291Z",
     "start_time": "2024-07-10T14:30:30.953847Z"
    }
   },
   "cell_type": "code",
   "source": "df_pyspark",
   "id": "544043d533c418dd",
   "outputs": [
    {
     "data": {
      "text/plain": [
       "DataFrame[Soil_Type: string, Sunlight_Hours: double, Water_Frequency: string, Fertilizer_Type: string, Temperature: double, Humidity: double, Growth_milestone: int]"
      ]
     },
     "execution_count": 53,
     "metadata": {},
     "output_type": "execute_result"
    }
   ],
   "execution_count": 53
  },
  {
   "metadata": {},
   "cell_type": "code",
   "outputs": [],
   "execution_count": null,
   "source": "",
   "id": "a2c37aa415bc390"
  }
 ],
 "metadata": {
  "kernelspec": {
   "display_name": "Python 3",
   "language": "python",
   "name": "python3"
  },
  "language_info": {
   "codemirror_mode": {
    "name": "ipython",
    "version": 2
   },
   "file_extension": ".py",
   "mimetype": "text/x-python",
   "name": "python",
   "nbconvert_exporter": "python",
   "pygments_lexer": "ipython2",
   "version": "2.7.6"
  }
 },
 "nbformat": 4,
 "nbformat_minor": 5
}
